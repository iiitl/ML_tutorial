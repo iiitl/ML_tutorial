{
  "nbformat": 4,
  "nbformat_minor": 0,
  "metadata": {
    "colab": {
      "provenance": []
    },
    "kernelspec": {
      "name": "python3",
      "display_name": "Python 3"
    },
    "language_info": {
      "name": "python"
    }
  },
  "cells": [
    {
      "cell_type": "code",
      "execution_count": 6,
      "metadata": {
        "id": "vkWieCO_89y9"
      },
      "outputs": [],
      "source": [
        "import pandas as pd\n"
      ]
    },
    {
      "cell_type": "code",
      "source": [
        "datast=pd.read_csv('Salary_Data.csv')\n"
      ],
      "metadata": {
        "id": "Hpg_hOD6AcSx"
      },
      "execution_count": 7,
      "outputs": []
    },
    {
      "cell_type": "code",
      "source": [
        "datast1=datast[\"Salary\"].mean()\n",
        "print(datast1)"
      ],
      "metadata": {
        "colab": {
          "base_uri": "https://localhost:8080/"
        },
        "id": "OwcSjBxrB0LA",
        "outputId": "1c04e2f6-c318-4c51-d0e3-84a9717c4499"
      },
      "execution_count": 8,
      "outputs": [
        {
          "output_type": "stream",
          "name": "stdout",
          "text": [
            "76003.0\n"
          ]
        }
      ]
    },
    {
      "cell_type": "code",
      "source": [
        "datast2=datast[\"Salary\"].median()\n",
        "print(datast2)"
      ],
      "metadata": {
        "colab": {
          "base_uri": "https://localhost:8080/"
        },
        "id": "ECKgKJcICO5m",
        "outputId": "d40943f9-c72e-45bf-a7f0-6aafec1e30b1"
      },
      "execution_count": 9,
      "outputs": [
        {
          "output_type": "stream",
          "name": "stdout",
          "text": [
            "65237.0\n"
          ]
        }
      ]
    },
    {
      "cell_type": "code",
      "source": [
        "datast3=datast[\"Salary\"].mode()\n",
        "print(datast3)"
      ],
      "metadata": {
        "colab": {
          "base_uri": "https://localhost:8080/"
        },
        "id": "UbSafBzICZ9M",
        "outputId": "e80cab28-ca53-45a8-e915-48dff0138d56"
      },
      "execution_count": 10,
      "outputs": [
        {
          "output_type": "stream",
          "name": "stdout",
          "text": [
            "0      37731.0\n",
            "1      39343.0\n",
            "2      39891.0\n",
            "3      43525.0\n",
            "4      46205.0\n",
            "5      54445.0\n",
            "6      55794.0\n",
            "7      56642.0\n",
            "8      56957.0\n",
            "9      57081.0\n",
            "10     57189.0\n",
            "11     60150.0\n",
            "12     61111.0\n",
            "13     63218.0\n",
            "14     64445.0\n",
            "15     66029.0\n",
            "16     67938.0\n",
            "17     81363.0\n",
            "18     83088.0\n",
            "19     91738.0\n",
            "20     93940.0\n",
            "21     98273.0\n",
            "22    101302.0\n",
            "23    105582.0\n",
            "24    109431.0\n",
            "25    112635.0\n",
            "26    113812.0\n",
            "27    116969.0\n",
            "28    121872.0\n",
            "29    122391.0\n",
            "dtype: float64\n"
          ]
        }
      ]
    }
  ]
}